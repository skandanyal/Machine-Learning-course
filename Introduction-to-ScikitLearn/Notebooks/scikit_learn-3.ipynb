{
 "cells": [
  {
   "metadata": {},
   "cell_type": "markdown",
   "source": [
    "# 2. Choosing the right estimator/algorithm for your model\n",
    "\n",
    "* SKlearn refers to ml models, algos as estimators\n",
    "* Classification problem - predicting a category - heart disease or not\n",
    "    * Sometimes `clf` is used as short for classification estimator\n",
    "* Regression problem - predicting a number (selling price of a car)\n",
    "\n",
    "Refer to sk learn map, if in doubt"
   ],
   "id": "edf48ee718e97223"
  },
  {
   "metadata": {
    "ExecuteTime": {
     "end_time": "2025-02-10T14:27:09.529806Z",
     "start_time": "2025-02-10T14:27:07.571174Z"
    }
   },
   "cell_type": "code",
   "source": [
    "import numpy as np\n",
    "import pandas as pd\n",
    "import sklearn"
   ],
   "id": "9f6d49907d94ba0e",
   "outputs": [],
   "execution_count": 1
  },
  {
   "metadata": {
    "ExecuteTime": {
     "end_time": "2025-02-10T14:28:11.164879Z",
     "start_time": "2025-02-10T14:28:11.160921Z"
    }
   },
   "cell_type": "code",
   "source": "# resume from 7:36",
   "id": "72a514cec923c59c",
   "outputs": [],
   "execution_count": 2
  }
 ],
 "metadata": {
  "kernelspec": {
   "display_name": "Python 3",
   "language": "python",
   "name": "python3"
  },
  "language_info": {
   "codemirror_mode": {
    "name": "ipython",
    "version": 2
   },
   "file_extension": ".py",
   "mimetype": "text/x-python",
   "name": "python",
   "nbconvert_exporter": "python",
   "pygments_lexer": "ipython2",
   "version": "2.7.6"
  }
 },
 "nbformat": 4,
 "nbformat_minor": 5
}
