{
 "cells": [
  {
   "cell_type": "code",
   "execution_count": 1,
   "id": "672e10c2-cae2-4c4c-81a6-2816b97265a6",
   "metadata": {},
   "outputs": [],
   "source": [
    "import numpy as np"
   ]
  },
  {
   "cell_type": "markdown",
   "id": "4f704fa7-c52a-442a-aa3f-295e3cb8bc0f",
   "metadata": {},
   "source": [
    "## Datatype and Attributes"
   ]
  },
  {
   "cell_type": "code",
   "execution_count": 2,
   "id": "36f8c92d-b26b-468d-904c-03cc8d4fa6f5",
   "metadata": {},
   "outputs": [
    {
     "data": {
      "text/plain": [
       "array([0, 1, 2, 3, 4])"
      ]
     },
     "execution_count": 2,
     "metadata": {},
     "output_type": "execute_result"
    }
   ],
   "source": [
    "# numpy's main datatype is ndarray\n",
    "a1 = np.array([x for x in range(5)])\n",
    "a1"
   ]
  },
  {
   "cell_type": "code",
   "execution_count": 3,
   "id": "913c8069-c92b-4560-b6b4-9c1e00a3c385",
   "metadata": {},
   "outputs": [
    {
     "data": {
      "text/plain": [
       "numpy.ndarray"
      ]
     },
     "execution_count": 3,
     "metadata": {},
     "output_type": "execute_result"
    }
   ],
   "source": [
    "type(a1)"
   ]
  },
  {
   "cell_type": "code",
   "execution_count": 4,
   "id": "4b387fb9-9cfa-41e0-a39a-bf025790f0cd",
   "metadata": {},
   "outputs": [
    {
     "name": "stdout",
     "output_type": "stream",
     "text": [
      "[[1.   2.   3.33]\n",
      " [4.   5.   6.6 ]]\n",
      "\n",
      "[[[ 1  2  3]\n",
      "  [ 4  5  6]\n",
      "  [ 7  8  9]]\n",
      "\n",
      " [[11 12 13]\n",
      "  [14 15 16]\n",
      "  [17 18 19]]]\n",
      "<class 'numpy.ndarray'> <class 'numpy.ndarray'>\n"
     ]
    }
   ],
   "source": [
    "a2 = np.array([[1,2,3.33],\n",
    "              [4,5,6.6]])\n",
    "\n",
    "a3 = np.array([[[1,2,3],\n",
    "               [4,5,6],\n",
    "               [7,8,9]],\n",
    "              [[11,12,13],\n",
    "              [14,15,16],\n",
    "              [17,18,19]]])\n",
    "\n",
    "print(a2, end='\\n\\n')\n",
    "print(a3)\n",
    "print(type(a2), type(a3))"
   ]
  },
  {
   "cell_type": "code",
   "execution_count": 5,
   "id": "cb161e9f-2df2-441e-94e7-871401d60a9a",
   "metadata": {},
   "outputs": [
    {
     "data": {
      "text/plain": [
       "(5,)"
      ]
     },
     "execution_count": 5,
     "metadata": {},
     "output_type": "execute_result"
    }
   ],
   "source": [
    "a1.shape\n",
    "\n",
    "# numpy shape cannot give a single valued output. hecne it says 5,_"
   ]
  },
  {
   "cell_type": "code",
   "execution_count": 6,
   "id": "d3a7fe0f-81c2-4dcd-98a5-84112742f4df",
   "metadata": {},
   "outputs": [
    {
     "data": {
      "text/plain": [
       "(2, 3, 3)"
      ]
     },
     "execution_count": 6,
     "metadata": {},
     "output_type": "execute_result"
    }
   ],
   "source": [
    "a3.shape"
   ]
  },
  {
   "cell_type": "code",
   "execution_count": 7,
   "id": "9c564f54-d91d-4ebe-807f-c6971fc8b07b",
   "metadata": {},
   "outputs": [
    {
     "data": {
      "text/plain": [
       "(1, 2, 3)"
      ]
     },
     "execution_count": 7,
     "metadata": {},
     "output_type": "execute_result"
    }
   ],
   "source": [
    "a1.ndim, a2.ndim, a3.ndim\n",
    "\n",
    "# returns the number of dimensions in the matrices"
   ]
  },
  {
   "cell_type": "code",
   "execution_count": 8,
   "id": "d2da3613-65db-4e6d-81ce-3ead4ab8cc0c",
   "metadata": {},
   "outputs": [
    {
     "data": {
      "text/plain": [
       "(dtype('int32'), dtype('float64'), dtype('int32'))"
      ]
     },
     "execution_count": 8,
     "metadata": {},
     "output_type": "execute_result"
    }
   ],
   "source": [
    "a1.dtype, a2.dtype, a3.dtype"
   ]
  },
  {
   "cell_type": "code",
   "execution_count": 9,
   "id": "411bc5fd-e9bc-4a99-ad0e-b385f820b7f9",
   "metadata": {},
   "outputs": [
    {
     "data": {
      "text/plain": [
       "(5, 6, 18)"
      ]
     },
     "execution_count": 9,
     "metadata": {},
     "output_type": "execute_result"
    }
   ],
   "source": [
    "a1.size, a2.size, a3.size\n",
    "\n",
    "# return the numbers of elements in the container"
   ]
  },
  {
   "cell_type": "code",
   "execution_count": 10,
   "id": "ef6f7004-eab0-484f-9b4f-4709653063b6",
   "metadata": {},
   "outputs": [
    {
     "data": {
      "text/html": [
       "<div>\n",
       "<style scoped>\n",
       "    .dataframe tbody tr th:only-of-type {\n",
       "        vertical-align: middle;\n",
       "    }\n",
       "\n",
       "    .dataframe tbody tr th {\n",
       "        vertical-align: top;\n",
       "    }\n",
       "\n",
       "    .dataframe thead th {\n",
       "        text-align: right;\n",
       "    }\n",
       "</style>\n",
       "<table border=\"1\" class=\"dataframe\">\n",
       "  <thead>\n",
       "    <tr style=\"text-align: right;\">\n",
       "      <th></th>\n",
       "      <th>0</th>\n",
       "      <th>1</th>\n",
       "      <th>2</th>\n",
       "    </tr>\n",
       "  </thead>\n",
       "  <tbody>\n",
       "    <tr>\n",
       "      <th>0</th>\n",
       "      <td>1.0</td>\n",
       "      <td>2.0</td>\n",
       "      <td>3.33</td>\n",
       "    </tr>\n",
       "    <tr>\n",
       "      <th>1</th>\n",
       "      <td>4.0</td>\n",
       "      <td>5.0</td>\n",
       "      <td>6.60</td>\n",
       "    </tr>\n",
       "  </tbody>\n",
       "</table>\n",
       "</div>"
      ],
      "text/plain": [
       "     0    1     2\n",
       "0  1.0  2.0  3.33\n",
       "1  4.0  5.0  6.60"
      ]
     },
     "execution_count": 10,
     "metadata": {},
     "output_type": "execute_result"
    }
   ],
   "source": [
    "# Creare a dataframe from  numpy array\n",
    "import pandas as pd\n",
    "\n",
    "df = pd.DataFrame(a2)\n",
    "df\n",
    "\n",
    "# at max, we can create a 2d dataframe => at max, we can only pass a 2d array"
   ]
  },
  {
   "cell_type": "markdown",
   "id": "226dc123-7faa-4a66-819e-ccb354c42e51",
   "metadata": {},
   "source": [
    "# Creating arrays"
   ]
  },
  {
   "cell_type": "code",
   "execution_count": 11,
   "id": "df594d78-13bf-4683-98e2-ec7bdd882e81",
   "metadata": {},
   "outputs": [
    {
     "data": {
      "text/plain": [
       "array([[1., 1.],\n",
       "       [1., 1.],\n",
       "       [1., 1.]])"
      ]
     },
     "execution_count": 11,
     "metadata": {},
     "output_type": "execute_result"
    }
   ],
   "source": [
    "# ones = np.ones(3, 2)\n",
    "# this will not work, if (3,2) is what you meant to say are the dimensions\n",
    "\n",
    "ones = np.ones((3,2))\n",
    "ones"
   ]
  },
  {
   "cell_type": "code",
   "execution_count": 12,
   "id": "d927ab0c-5893-480d-bbd6-380e5fabd23c",
   "metadata": {},
   "outputs": [
    {
     "name": "stdout",
     "output_type": "stream",
     "text": [
      "float64\n",
      "<class 'numpy.ndarray'>\n"
     ]
    }
   ],
   "source": [
    "print(ones.dtype) # will tell what the datatype of the contents are\n",
    "print(type(ones)) # will tell the datatype of the container ones"
   ]
  },
  {
   "cell_type": "code",
   "execution_count": 13,
   "id": "edcc409e-0126-4efa-a28d-abe7d4c7a343",
   "metadata": {},
   "outputs": [
    {
     "data": {
      "text/plain": [
       "array([[0., 0.],\n",
       "       [0., 0.],\n",
       "       [0., 0.]])"
      ]
     },
     "execution_count": 13,
     "metadata": {},
     "output_type": "execute_result"
    }
   ],
   "source": [
    "zeros = np.zeros((3,2))\n",
    "zeros"
   ]
  },
  {
   "cell_type": "code",
   "execution_count": 14,
   "id": "b087d5f9-5543-43b9-bf71-b4bdccbf08cf",
   "metadata": {},
   "outputs": [
    {
     "data": {
      "text/plain": [
       "array([1, 2, 3, 4, 5, 6, 7, 8, 9])"
      ]
     },
     "execution_count": 14,
     "metadata": {},
     "output_type": "execute_result"
    }
   ],
   "source": [
    "range_array_2 = np.arange(1,10,1)\n",
    "range_array_2"
   ]
  },
  {
   "cell_type": "code",
   "execution_count": 15,
   "id": "5046956b-0d2e-416e-906a-bca469562018",
   "metadata": {},
   "outputs": [
    {
     "data": {
      "text/plain": [
       "array([[9, 4, 9, 2, 6, 9, 4, 7, 6, 6],\n",
       "       [5, 1, 7, 6, 9, 4, 1, 6, 8, 1],\n",
       "       [8, 9, 2, 8, 8, 3, 7, 1, 5, 6],\n",
       "       [7, 3, 4, 3, 6, 9, 4, 6, 6, 6],\n",
       "       [3, 7, 4, 3, 2, 2, 6, 1, 8, 8],\n",
       "       [9, 8, 3, 5, 9, 4, 7, 5, 4, 3],\n",
       "       [8, 9, 4, 8, 8, 4, 3, 4, 6, 2],\n",
       "       [5, 6, 6, 6, 5, 7, 7, 9, 2, 3]])"
      ]
     },
     "execution_count": 15,
     "metadata": {},
     "output_type": "execute_result"
    }
   ],
   "source": [
    "random_array_3 = np.random.randint(1,10, size=(8,10))\n",
    "random_array_3"
   ]
  },
  {
   "cell_type": "code",
   "execution_count": 16,
   "id": "8aa85c30-75e1-45f9-b2c4-5aeba98b4755",
   "metadata": {},
   "outputs": [
    {
     "name": "stdout",
     "output_type": "stream",
     "text": [
      "80 (8, 10)\n"
     ]
    }
   ],
   "source": [
    "print(random_array_3.size, random_array_3.shape)"
   ]
  },
  {
   "cell_type": "code",
   "execution_count": 17,
   "id": "94c1c0cf-64b4-483d-83ea-c1a411c8abc2",
   "metadata": {},
   "outputs": [],
   "source": [
    "# np.random.random, np.random.rand also exist and throw random floats"
   ]
  },
  {
   "cell_type": "code",
   "execution_count": 18,
   "id": "02768d85-a82b-4fed-9140-ef8f4b51b9db",
   "metadata": {},
   "outputs": [
    {
     "data": {
      "text/plain": [
       "array([[ 6,  1,  4,  4,  8, 10,  4,  6,  3,  5],\n",
       "       [ 8,  7,  9,  9,  2,  7,  8,  8,  9,  2],\n",
       "       [ 6, 10,  9, 10,  5,  4,  1,  4,  6,  1],\n",
       "       [ 3,  4,  9,  2,  4,  4,  4,  8,  1,  2],\n",
       "       [10, 10,  1,  5,  8,  4,  3,  8,  3,  1],\n",
       "       [ 1,  5,  6,  6,  7,  9,  5,  2,  5, 10],\n",
       "       [ 9,  2,  2,  8, 10, 10,  4,  7,  8,  3],\n",
       "       [ 1,  4,  6, 10,  5,  5,  7,  5,  5,  4]])"
      ]
     },
     "execution_count": 18,
     "metadata": {},
     "output_type": "execute_result"
    }
   ],
   "source": [
    "# the numbers aren't entirely random. they are psuedo random numbers\n",
    "np.random.seed(seed=0)\n",
    "random_array_4 = np.random.randint(1,11,size=(8,10))\n",
    "random_array_4"
   ]
  },
  {
   "cell_type": "code",
   "execution_count": 19,
   "id": "a099cf76-46f6-4b98-924d-cf42d132372c",
   "metadata": {},
   "outputs": [
    {
     "data": {
      "text/plain": [
       "(8, 10)"
      ]
     },
     "execution_count": 19,
     "metadata": {},
     "output_type": "execute_result"
    }
   ],
   "source": [
    "random_array_4.shape"
   ]
  },
  {
   "cell_type": "code",
   "execution_count": 20,
   "id": "b1bc3b6a-4308-446d-bb9e-e4dd37286e1b",
   "metadata": {},
   "outputs": [],
   "source": [
    "# random seem function makes random function to produce random numbers which are aligned to the seed"
   ]
  },
  {
   "cell_type": "code",
   "execution_count": 21,
   "id": "4dae5dca-51c5-4ce6-bed7-1d177a9ad123",
   "metadata": {},
   "outputs": [
    {
     "data": {
      "text/plain": [
       "array([[4, 5, 2, 6, 9],\n",
       "       [4, 9, 1, 6, 2],\n",
       "       [4, 3, 3, 7, 9],\n",
       "       [4, 5, 6, 6, 8],\n",
       "       [3, 7, 6, 2, 7]])"
      ]
     },
     "execution_count": 21,
     "metadata": {},
     "output_type": "execute_result"
    }
   ],
   "source": [
    "np.random.seed(seed=8)\n",
    "random_array_5 = np.random.randint(1,10, size=(5,5))\n",
    "random_array_5"
   ]
  },
  {
   "cell_type": "code",
   "execution_count": 22,
   "id": "b4e30e63-154e-470b-a524-74a6977d4863",
   "metadata": {},
   "outputs": [
    {
     "data": {
      "text/plain": [
       "array([[0.22199317, 0.87073231, 0.20671916, 0.91861091, 0.48841119,\n",
       "        0.61174386, 0.76590786, 0.51841799, 0.2968005 , 0.18772123],\n",
       "       [0.08074127, 0.7384403 , 0.44130922, 0.15830987, 0.87993703,\n",
       "        0.27408646, 0.41423502, 0.29607993, 0.62878791, 0.57983781],\n",
       "       [0.5999292 , 0.26581912, 0.28468588, 0.25358821, 0.32756395,\n",
       "        0.1441643 , 0.16561286, 0.96393053, 0.96022672, 0.18841466],\n",
       "       [0.02430656, 0.20455555, 0.69984361, 0.77951459, 0.02293309,\n",
       "        0.57766286, 0.00164217, 0.51547261, 0.63979518, 0.9856244 ],\n",
       "       [0.2590976 , 0.80249689, 0.87048309, 0.92274961, 0.00221421,\n",
       "        0.46948837, 0.98146874, 0.3989448 , 0.81373248, 0.5464565 ],\n",
       "       [0.77085409, 0.48493107, 0.02911156, 0.08652569, 0.11145381,\n",
       "        0.25124511, 0.96491529, 0.63176605, 0.8166602 , 0.566082  ],\n",
       "       [0.63535621, 0.81190239, 0.92668262, 0.91262676, 0.82481072,\n",
       "        0.09420273, 0.36104842, 0.03550903, 0.54635835, 0.79614272],\n",
       "       [0.0511428 , 0.18866774, 0.36547777, 0.24429087, 0.79508747,\n",
       "        0.35209494, 0.63887768, 0.49341505, 0.58349974, 0.93929935]])"
      ]
     },
     "execution_count": 22,
     "metadata": {},
     "output_type": "execute_result"
    }
   ],
   "source": [
    "np.random.seed(seed=5)\n",
    "random_array_6 = np.random.random([8,10])\n",
    "random_array_6"
   ]
  },
  {
   "cell_type": "markdown",
   "id": "e107a281-c46a-459d-acd0-3358f53af7d7",
   "metadata": {},
   "source": [
    "## Viewing Arrays and Matrices"
   ]
  },
  {
   "cell_type": "code",
   "execution_count": 23,
   "id": "1e7d3b00-1806-4eb7-9b52-04882b8cd33e",
   "metadata": {},
   "outputs": [
    {
     "data": {
      "text/plain": [
       "array([1, 2, 3, 4, 5, 6, 7, 8, 9])"
      ]
     },
     "execution_count": 23,
     "metadata": {},
     "output_type": "execute_result"
    }
   ],
   "source": [
    "# used to find the unique elements in an array\n",
    "np.unique(random_array_5)"
   ]
  },
  {
   "cell_type": "code",
   "execution_count": 24,
   "id": "466e5594-9e40-45e6-84e6-cdbd8643096d",
   "metadata": {},
   "outputs": [
    {
     "data": {
      "text/plain": [
       "array([[[[5, 0, 3, 3, 7],\n",
       "         [9, 3, 5, 2, 4],\n",
       "         [7, 6, 8, 8, 1],\n",
       "         [6, 7, 7, 8, 1]],\n",
       "\n",
       "        [[5, 9, 8, 9, 4],\n",
       "         [3, 0, 3, 5, 0],\n",
       "         [2, 3, 8, 1, 3],\n",
       "         [3, 3, 7, 0, 1]],\n",
       "\n",
       "        [[9, 9, 0, 4, 7],\n",
       "         [3, 2, 7, 2, 0],\n",
       "         [0, 4, 5, 5, 6],\n",
       "         [8, 4, 1, 4, 9]]],\n",
       "\n",
       "\n",
       "       [[[8, 1, 1, 7, 9],\n",
       "         [9, 3, 6, 7, 2],\n",
       "         [0, 3, 5, 9, 4],\n",
       "         [4, 6, 4, 4, 3]],\n",
       "\n",
       "        [[4, 4, 8, 4, 3],\n",
       "         [7, 5, 5, 0, 1],\n",
       "         [5, 9, 3, 0, 5],\n",
       "         [0, 1, 2, 4, 2]],\n",
       "\n",
       "        [[0, 3, 2, 0, 7],\n",
       "         [5, 9, 0, 2, 7],\n",
       "         [2, 9, 2, 3, 3],\n",
       "         [2, 3, 4, 1, 2]]]])"
      ]
     },
     "execution_count": 24,
     "metadata": {},
     "output_type": "execute_result"
    }
   ],
   "source": [
    "np.random.seed(seed=0)\n",
    "m1 = np.random.randint(10, size=(2,3,4,5))\n",
    "m1"
   ]
  },
  {
   "cell_type": "code",
   "execution_count": 25,
   "id": "d551d7ff-1b00-4e06-a678-d1651d0750e7",
   "metadata": {},
   "outputs": [
    {
     "data": {
      "text/plain": [
       "array([[[[5, 0],\n",
       "         [9, 3]],\n",
       "\n",
       "        [[5, 9],\n",
       "         [3, 0]],\n",
       "\n",
       "        [[9, 9],\n",
       "         [3, 2]]],\n",
       "\n",
       "\n",
       "       [[[8, 1],\n",
       "         [9, 3]],\n",
       "\n",
       "        [[4, 4],\n",
       "         [7, 5]],\n",
       "\n",
       "        [[0, 3],\n",
       "         [5, 9]]]])"
      ]
     },
     "execution_count": 25,
     "metadata": {},
     "output_type": "execute_result"
    }
   ],
   "source": [
    " m1[:, :, :2, :2]"
   ]
  },
  {
   "cell_type": "markdown",
   "id": "82baf8fd-8a9f-400c-8a26-7905fe480638",
   "metadata": {},
   "source": [
    "## Manipulaitng & Comparing arrays"
   ]
  },
  {
   "cell_type": "markdown",
   "id": "ca859882-4f96-456a-9184-ce57dc2685a4",
   "metadata": {},
   "source": [
    "### Arithmetic"
   ]
  },
  {
   "cell_type": "code",
   "execution_count": 26,
   "id": "230210b3-fd58-40ab-9b73-46503cae7b86",
   "metadata": {},
   "outputs": [
    {
     "data": {
      "text/plain": [
       "array([0, 1, 2, 3, 4])"
      ]
     },
     "execution_count": 26,
     "metadata": {},
     "output_type": "execute_result"
    }
   ],
   "source": [
    "a1 = np.array([x for x in range(5)])\n",
    "a1"
   ]
  },
  {
   "cell_type": "code",
   "execution_count": 27,
   "id": "85215237-5d0f-4fea-84bd-064d8d49111a",
   "metadata": {},
   "outputs": [
    {
     "data": {
      "text/plain": [
       "array([1., 1., 1., 1., 1.])"
      ]
     },
     "execution_count": 27,
     "metadata": {},
     "output_type": "execute_result"
    }
   ],
   "source": [
    "ones = np.ones(5)\n",
    "ones"
   ]
  },
  {
   "cell_type": "code",
   "execution_count": 28,
   "id": "ca24a219-113c-43e6-9b02-f1f25454f5a6",
   "metadata": {},
   "outputs": [
    {
     "data": {
      "text/plain": [
       "array([1., 2., 3., 4., 5.])"
      ]
     },
     "execution_count": 28,
     "metadata": {},
     "output_type": "execute_result"
    }
   ],
   "source": [
    "a1+ones"
   ]
  },
  {
   "cell_type": "code",
   "execution_count": 29,
   "id": "a7ef13ca-a45e-47e0-a6fc-615266c3cc5a",
   "metadata": {},
   "outputs": [
    {
     "data": {
      "text/plain": [
       "array([ 1.,  0., -1., -2., -3.])"
      ]
     },
     "execution_count": 29,
     "metadata": {},
     "output_type": "execute_result"
    }
   ],
   "source": [
    "ones - a1"
   ]
  },
  {
   "cell_type": "code",
   "execution_count": 30,
   "id": "bbecefaa-e3dd-42fa-939d-72661bfe2f14",
   "metadata": {},
   "outputs": [
    {
     "data": {
      "text/plain": [
       "array([0., 1., 2., 3., 4.])"
      ]
     },
     "execution_count": 30,
     "metadata": {},
     "output_type": "execute_result"
    }
   ],
   "source": [
    "ones * a1 # multiplies elements of the same indices"
   ]
  },
  {
   "cell_type": "code",
   "execution_count": 31,
   "id": "8be63f32-c31a-485c-9c75-e522017c35e8",
   "metadata": {},
   "outputs": [
    {
     "data": {
      "text/plain": [
       "array([[0, 1, 2, 3, 4],\n",
       "       [5, 6, 7, 8, 9]])"
      ]
     },
     "execution_count": 31,
     "metadata": {},
     "output_type": "execute_result"
    }
   ],
   "source": [
    "a2 = np.array([[x for x in range(5)],[x for x in range(5,10)]])\n",
    "a2"
   ]
  },
  {
   "cell_type": "code",
   "execution_count": 32,
   "id": "e7c21c50-7228-4ec3-bafc-9cf04991916f",
   "metadata": {},
   "outputs": [
    {
     "data": {
      "text/plain": [
       "array([[ 0,  1,  4,  9, 16],\n",
       "       [ 0,  6, 14, 24, 36]])"
      ]
     },
     "execution_count": 32,
     "metadata": {},
     "output_type": "execute_result"
    }
   ],
   "source": [
    "a1 * a2 # does the job"
   ]
  },
  {
   "cell_type": "code",
   "execution_count": 33,
   "id": "ef54ce31-800d-4162-b02d-db66b5018fdb",
   "metadata": {},
   "outputs": [
    {
     "data": {
      "text/plain": [
       "array([[ 0,  1,  4,  9, 16],\n",
       "       [ 0,  6, 14, 24, 36]])"
      ]
     },
     "execution_count": 33,
     "metadata": {},
     "output_type": "execute_result"
    }
   ],
   "source": [
    "a2 * a1"
   ]
  },
  {
   "cell_type": "code",
   "execution_count": 34,
   "id": "50ac2c06-dafb-4b29-bc54-9372bff3768a",
   "metadata": {},
   "outputs": [
    {
     "name": "stderr",
     "output_type": "stream",
     "text": [
      "C:\\Users\\Dell\\AppData\\Local\\Temp\\ipykernel_22504\\73751550.py:1: RuntimeWarning: divide by zero encountered in divide\n",
      "  a2 / a1\n",
      "C:\\Users\\Dell\\AppData\\Local\\Temp\\ipykernel_22504\\73751550.py:1: RuntimeWarning: invalid value encountered in divide\n",
      "  a2 / a1\n"
     ]
    },
    {
     "data": {
      "text/plain": [
       "array([[       nan, 1.        , 1.        , 1.        , 1.        ],\n",
       "       [       inf, 6.        , 3.5       , 2.66666667, 2.25      ]])"
      ]
     },
     "execution_count": 34,
     "metadata": {},
     "output_type": "execute_result"
    }
   ],
   "source": [
    "a2 / a1"
   ]
  },
  {
   "cell_type": "code",
   "execution_count": 35,
   "id": "62da011b-7265-41a6-82c9-8b070c342530",
   "metadata": {},
   "outputs": [
    {
     "data": {
      "text/plain": [
       "array([[   0,    1,   16,   81,  256],\n",
       "       [ 625, 1296, 2401, 4096, 6561]], dtype=int32)"
      ]
     },
     "execution_count": 35,
     "metadata": {},
     "output_type": "execute_result"
    }
   ],
   "source": [
    "a2**4"
   ]
  },
  {
   "cell_type": "code",
   "execution_count": 36,
   "id": "2a5cd3f6-4d64-4a1a-af77-3c81f5bee45e",
   "metadata": {},
   "outputs": [],
   "source": [
    "# and much more"
   ]
  },
  {
   "cell_type": "markdown",
   "id": "b857d888-a628-43d6-8719-8b024e2be2d2",
   "metadata": {},
   "source": [
    "### Aggregation"
   ]
  },
  {
   "cell_type": "code",
   "execution_count": 37,
   "id": "6f78405f-cd8c-4105-84c7-f6e369723ba6",
   "metadata": {},
   "outputs": [
    {
     "data": {
      "text/plain": [
       "list"
      ]
     },
     "execution_count": 37,
     "metadata": {},
     "output_type": "execute_result"
    }
   ],
   "source": [
    "naya_list = [1,2,3,4]\n",
    "type(naya_list)"
   ]
  },
  {
   "cell_type": "code",
   "execution_count": 38,
   "id": "1d42b785-3a50-4bd7-936c-d07a6592d5bc",
   "metadata": {},
   "outputs": [
    {
     "data": {
      "text/plain": [
       "10"
      ]
     },
     "execution_count": 38,
     "metadata": {},
     "output_type": "execute_result"
    }
   ],
   "source": [
    "np.sum(a1) "
   ]
  },
  {
   "cell_type": "markdown",
   "id": "729015ec-bb27-45e3-8ede-c2412b35b2ad",
   "metadata": {},
   "source": [
    "but sum() already is a py fun. then why use np.sum()?\n",
    "use py fns (`sum()`) on py dtypes, np fns (`np.sum()`) on np dtypes"
   ]
  },
  {
   "cell_type": "code",
   "execution_count": 39,
   "id": "a66ab3ec-8dba-46c2-8a6b-33eba94f98c5",
   "metadata": {},
   "outputs": [
    {
     "data": {
      "text/plain": [
       "array([[9, 1, 4, ..., 2, 6, 2],\n",
       "       [7, 7, 0, ..., 5, 4, 5],\n",
       "       [7, 0, 1, ..., 6, 9, 2],\n",
       "       ...,\n",
       "       [0, 0, 6, ..., 4, 2, 8],\n",
       "       [9, 4, 4, ..., 3, 7, 3],\n",
       "       [5, 0, 9, ..., 7, 5, 8]])"
      ]
     },
     "execution_count": 39,
     "metadata": {},
     "output_type": "execute_result"
    }
   ],
   "source": [
    "# create a massive numpy array\n",
    "massive_arr = np.random.randint(0,10, size=[10000,10000])\n",
    "massive_arr"
   ]
  },
  {
   "cell_type": "code",
   "execution_count": 40,
   "id": "55525b34-041b-4e52-90a9-05fc4fa4f425",
   "metadata": {},
   "outputs": [
    {
     "data": {
      "text/plain": [
       "array([[9, 1, 4, ..., 2, 6, 2],\n",
       "       [7, 7, 0, ..., 5, 4, 5],\n",
       "       [7, 0, 1, ..., 6, 9, 2],\n",
       "       ...,\n",
       "       [2, 5, 0, ..., 2, 8, 0],\n",
       "       [8, 3, 8, ..., 5, 5, 7],\n",
       "       [1, 1, 0, ..., 7, 6, 3]])"
      ]
     },
     "execution_count": 40,
     "metadata": {},
     "output_type": "execute_result"
    }
   ],
   "source": [
    "massive_arr[:10]"
   ]
  },
  {
   "cell_type": "code",
   "execution_count": 41,
   "id": "a3285ba8-c360-4753-ad03-bac433d20f3c",
   "metadata": {},
   "outputs": [
    {
     "name": "stdout",
     "output_type": "stream",
     "text": [
      "86.6 ms ± 4.59 ms per loop (mean ± std. dev. of 7 runs, 10 loops each)\n",
      "46.9 ms ± 4.94 ms per loop (mean ± std. dev. of 7 runs, 10 loops each)\n"
     ]
    }
   ],
   "source": [
    "%timeit sum(massive_arr) # py sum\n",
    "%timeit np.sum(massive_arr) # np sum"
   ]
  },
  {
   "cell_type": "code",
   "execution_count": 42,
   "id": "a0df091e-7656-437e-af4c-6e8c02e551ec",
   "metadata": {},
   "outputs": [
    {
     "data": {
      "text/plain": [
       "4.49995066"
      ]
     },
     "execution_count": 42,
     "metadata": {},
     "output_type": "execute_result"
    }
   ],
   "source": [
    "np.mean(massive_arr)"
   ]
  },
  {
   "cell_type": "code",
   "execution_count": 43,
   "id": "e62351af-26dd-41c6-885f-8b92d608d4a5",
   "metadata": {},
   "outputs": [
    {
     "data": {
      "text/plain": [
       "2.872147394819"
      ]
     },
     "execution_count": 43,
     "metadata": {},
     "output_type": "execute_result"
    }
   ],
   "source": [
    "np.std(massive_arr) # a measure of how spread out a group of numbers is from its mean"
   ]
  },
  {
   "cell_type": "code",
   "execution_count": 44,
   "id": "27c4987a-57f9-4b8d-b9b7-d6806fca23e6",
   "metadata": {},
   "outputs": [
    {
     "data": {
      "text/plain": [
       "8.249230657565569"
      ]
     },
     "execution_count": 44,
     "metadata": {},
     "output_type": "execute_result"
    }
   ],
   "source": [
    "np.var(massive_arr) # higher var = higher range of number"
   ]
  },
  {
   "cell_type": "code",
   "execution_count": 45,
   "id": "93942172-977a-41ff-80b0-d9f8491553d7",
   "metadata": {},
   "outputs": [
    {
     "name": "stdout",
     "output_type": "stream",
     "text": [
      "4296133.472222221 5.84\n"
     ]
    }
   ],
   "source": [
    "# demo of std and var\n",
    "high_var_arr = np.array([1,100,200,300,4000,5000]) # nos are very far from each other\n",
    "low_var_array = np.array([2,4,5,7,9]) # numbers are relatively closer to each other\n",
    "\n",
    "print(np.var(high_var_arr), np.var(low_var_array))"
   ]
  },
  {
   "cell_type": "code",
   "execution_count": 46,
   "id": "02afd4c8-8017-4dff-b50e-68c37c4a2d82",
   "metadata": {},
   "outputs": [
    {
     "name": "stdout",
     "output_type": "stream",
     "text": [
      "2072.711623024829 2.4166091947189146\n"
     ]
    }
   ],
   "source": [
    "print(np.std(high_var_arr), np.std(low_var_array))"
   ]
  },
  {
   "cell_type": "code",
   "execution_count": 47,
   "id": "a7f30085-b13e-42de-893a-84460809bb3a",
   "metadata": {},
   "outputs": [
    {
     "name": "stdout",
     "output_type": "stream",
     "text": [
      "1600.1666666666667 5.4\n"
     ]
    }
   ],
   "source": [
    "print(np.mean(high_var_arr), np.mean(low_var_array))"
   ]
  },
  {
   "cell_type": "code",
   "execution_count": 48,
   "id": "0af9be7d-c83b-4b24-9e96-950af7505b19",
   "metadata": {},
   "outputs": [
    {
     "data": {
      "image/png": "[encoded data removed]",
      "text/plain": [
       "<Figure size 640x480 with 1 Axes>"
      ]
     },
     "metadata": {},
     "output_type": "display_data"
    }
   ],
   "source": [
    "%matplotlib inline\n",
    "import matplotlib.pyplot as plt\n",
    "\n",
    "plt.hist(high_var_arr)\n",
    "plt.plot()\n",
    "plt.show()"
   ]
  },
  {
   "cell_type": "code",
   "execution_count": 49,
   "id": "403d5748-5159-4edf-ba2d-de2e2804268b",
   "metadata": {},
   "outputs": [
    {
     "data": {
      "image/png": "[encoded data removed]",
      "text/plain": [
       "<Figure size 640x480 with 1 Axes>"
      ]
     },
     "metadata": {},
     "output_type": "display_data"
    }
   ],
   "source": [
    "plt.scatter(low_var_array, low_var_array)\n",
    "plt.show()"
   ]
  },
  {
   "cell_type": "code",
   "execution_count": 50,
   "id": "0f87a856-c3d0-49dd-85e8-6903e043c712",
   "metadata": {},
   "outputs": [
    {
     "data": {
      "image/png": "[encoded data removed]",
      "text/plain": [
       "<Figure size 640x480 with 1 Axes>"
      ]
     },
     "metadata": {},
     "output_type": "display_data"
    }
   ],
   "source": [
    "plt.scatter(high_var_arr, high_var_arr)\n",
    "plt.show()"
   ]
  },
  {
   "cell_type": "code",
   "execution_count": 51,
   "id": "7e2fe7c0-c8de-4abb-b902-480089587cea",
   "metadata": {},
   "outputs": [
    {
     "data": {
      "text/plain": [
       "array([[0, 1, 2, 3, 4],\n",
       "       [5, 6, 7, 8, 9]])"
      ]
     },
     "execution_count": 51,
     "metadata": {},
     "output_type": "execute_result"
    }
   ],
   "source": [
    "# transpose\n",
    "a2"
   ]
  },
  {
   "cell_type": "code",
   "execution_count": 52,
   "id": "6df71ed1-af18-4c1b-9bc4-dc95cc5e4268",
   "metadata": {},
   "outputs": [
    {
     "data": {
      "text/plain": [
       "array([[0, 5],\n",
       "       [1, 6],\n",
       "       [2, 7],\n",
       "       [3, 8],\n",
       "       [4, 9]])"
      ]
     },
     "execution_count": 52,
     "metadata": {},
     "output_type": "execute_result"
    }
   ],
   "source": [
    "a2.T"
   ]
  },
  {
   "cell_type": "code",
   "execution_count": 53,
   "id": "cbe9befa-6601-4536-a39d-275458f3bc3b",
   "metadata": {},
   "outputs": [
    {
     "name": "stdout",
     "output_type": "stream",
     "text": [
      "(2, 5) (5, 2)\n"
     ]
    }
   ],
   "source": [
    "print(a2.shape, a2.T.shape)"
   ]
  },
  {
   "cell_type": "code",
   "execution_count": 54,
   "id": "4e38bea2-02cc-4771-8db5-541f5e1272d5",
   "metadata": {},
   "outputs": [
    {
     "name": "stdout",
     "output_type": "stream",
     "text": [
      "[[[ 1  2  3]\n",
      "  [ 4  5  6]\n",
      "  [ 7  8  9]]\n",
      "\n",
      " [[11 12 13]\n",
      "  [14 15 16]\n",
      "  [17 18 19]]]\n",
      "[[[ 1 11]\n",
      "  [ 4 14]\n",
      "  [ 7 17]]\n",
      "\n",
      " [[ 2 12]\n",
      "  [ 5 15]\n",
      "  [ 8 18]]\n",
      "\n",
      " [[ 3 13]\n",
      "  [ 6 16]\n",
      "  [ 9 19]]]\n"
     ]
    }
   ],
   "source": [
    "print(a3)\n",
    "print(a3.T)"
   ]
  },
  {
   "cell_type": "code",
   "execution_count": 55,
   "id": "30dbd48d-9e89-47ab-b499-b4ee57751628",
   "metadata": {},
   "outputs": [
    {
     "name": "stdout",
     "output_type": "stream",
     "text": [
      "(2, 3, 3) (3, 3, 2)\n"
     ]
    }
   ],
   "source": [
    "print(a3.shape, a3.T.shape)"
   ]
  },
  {
   "cell_type": "markdown",
   "id": "217d2634-4341-42ac-98c0-7401da3c86a3",
   "metadata": {},
   "source": [
    "## Dot product"
   ]
  },
  {
   "cell_type": "code",
   "execution_count": 56,
   "id": "158ba3a2-9f61-4dd7-90f8-c64d5ee01ac8",
   "metadata": {},
   "outputs": [],
   "source": [
    "np.random.seed(5)\n",
    "# seed = 5\n",
    "\n",
    "mat1 = np.random.randint(0,10, size=(4,4))\n",
    "mat2 = np.random.randint(0,10, size=(4,4))"
   ]
  },
  {
   "cell_type": "code",
   "execution_count": 57,
   "id": "6b3497d3-1a89-456a-a486-731b3f018391",
   "metadata": {},
   "outputs": [
    {
     "data": {
      "text/plain": [
       "array([[3, 6, 6, 0],\n",
       "       [9, 8, 4, 7],\n",
       "       [0, 0, 7, 1],\n",
       "       [5, 7, 0, 1]])"
      ]
     },
     "execution_count": 57,
     "metadata": {},
     "output_type": "execute_result"
    }
   ],
   "source": [
    "mat1"
   ]
  },
  {
   "cell_type": "code",
   "execution_count": 58,
   "id": "97ec3114-59de-4ae1-b3af-ed3cb47797d5",
   "metadata": {},
   "outputs": [
    {
     "data": {
      "text/plain": [
       "array([[4, 6, 2, 9],\n",
       "       [9, 9, 9, 1],\n",
       "       [2, 7, 0, 5],\n",
       "       [0, 0, 4, 4]])"
      ]
     },
     "execution_count": 58,
     "metadata": {},
     "output_type": "execute_result"
    }
   ],
   "source": [
    "mat2"
   ]
  },
  {
   "cell_type": "code",
   "execution_count": 59,
   "id": "7877d847-6ffa-4a89-b07a-4b2439bdcb95",
   "metadata": {},
   "outputs": [
    {
     "data": {
      "text/plain": [
       "array([[12, 36, 12,  0],\n",
       "       [81, 72, 36,  7],\n",
       "       [ 0,  0,  0,  5],\n",
       "       [ 0,  0,  0,  4]])"
      ]
     },
     "execution_count": 59,
     "metadata": {},
     "output_type": "execute_result"
    }
   ],
   "source": [
    "mat1 * mat2 # hadamard prod."
   ]
  },
  {
   "cell_type": "code",
   "execution_count": 60,
   "id": "f8db38bf-9462-473e-9d1e-3d85fe017712",
   "metadata": {},
   "outputs": [
    {
     "data": {
      "text/plain": [
       "array([[ 78, 114,  60,  63],\n",
       "       [116, 154, 118, 137],\n",
       "       [ 14,  49,   4,  39],\n",
       "       [ 83,  93,  77,  56]])"
      ]
     },
     "execution_count": 60,
     "metadata": {},
     "output_type": "execute_result"
    }
   ],
   "source": [
    "np.dot(mat1, mat2) # dot prod."
   ]
  },
  {
   "cell_type": "code",
   "execution_count": 61,
   "id": "45ab74e0-d5d0-4cea-82b0-75c6ae796459",
   "metadata": {},
   "outputs": [
    {
     "data": {
      "text/plain": [
       "array([[ 78, 114,  60,  63],\n",
       "       [116, 154, 118, 137],\n",
       "       [ 14,  49,   4,  39],\n",
       "       [ 83,  93,  77,  56]])"
      ]
     },
     "execution_count": 61,
     "metadata": {},
     "output_type": "execute_result"
    }
   ],
   "source": [
    "mat1.dot(mat2) # does the same job"
   ]
  },
  {
   "cell_type": "code",
   "execution_count": 62,
   "id": "cf8cc476-467e-4e97-9351-ec73db1e41e3",
   "metadata": {},
   "outputs": [
    {
     "data": {
      "text/plain": [
       "array([[3, 6, 6],\n",
       "       [0, 9, 8],\n",
       "       [4, 7, 0],\n",
       "       [0, 7, 1]])"
      ]
     },
     "execution_count": 62,
     "metadata": {},
     "output_type": "execute_result"
    }
   ],
   "source": [
    "np.random.seed(seed=5)\n",
    "mat3 = np.random.randint(0,10,size=(4,3))\n",
    "mat3"
   ]
  },
  {
   "cell_type": "code",
   "execution_count": 63,
   "id": "4debe9dc-3209-495e-b302-1412c29f470f",
   "metadata": {},
   "outputs": [
    {
     "data": {
      "text/plain": [
       "array([[ 33, 114,  66],\n",
       "       [ 43, 203, 125],\n",
       "       [ 28,  56,   1],\n",
       "       [ 15, 100,  87]])"
      ]
     },
     "execution_count": 63,
     "metadata": {},
     "output_type": "execute_result"
    }
   ],
   "source": [
    "mat1.dot(mat3)"
   ]
  },
  {
   "cell_type": "code",
   "execution_count": 64,
   "id": "f7e9b40a-55f0-4b32-86e3-b44b058c8077",
   "metadata": {},
   "outputs": [
    {
     "ename": "ValueError",
     "evalue": "shapes (4,3) and (4,4) not aligned: 3 (dim 1) != 4 (dim 0)",
     "output_type": "error",
     "traceback": [
      "\u001b[1;31m---------------------------------------------------------------------------\u001b[0m",
      "\u001b[1;31mValueError\u001b[0m                                Traceback (most recent call last)",
      "Cell \u001b[1;32mIn[64], line 1\u001b[0m\n\u001b[1;32m----> 1\u001b[0m mat3\u001b[38;5;241m.\u001b[39mdot(mat1)\n",
      "\u001b[1;31mValueError\u001b[0m: shapes (4,3) and (4,4) not aligned: 3 (dim 1) != 4 (dim 0)"
     ]
    }
   ],
   "source": [
    "mat3.dot(mat1)"
   ]
  },
  {
   "cell_type": "code",
   "execution_count": 65,
   "id": "4ad4fe5f-f571-4ff1-9ef8-c3f931817605",
   "metadata": {},
   "outputs": [
    {
     "data": {
      "text/plain": [
       "array([[  9,  18,  46,   4],\n",
       "       [134, 157, 121,  77],\n",
       "       [ 95, 107,  68,  57]])"
      ]
     },
     "execution_count": 65,
     "metadata": {},
     "output_type": "execute_result"
    }
   ],
   "source": [
    "mat3.T.dot(mat1)"
   ]
  },
  {
   "cell_type": "markdown",
   "id": "2b6319b8-3326-4fa9-b852-21344eb59bd2",
   "metadata": {},
   "source": [
    "## Dot product example - Nut butter sales"
   ]
  },
  {
   "cell_type": "code",
   "execution_count": 66,
   "id": "bb54ce36-10df-480c-bf93-09550720e66e",
   "metadata": {},
   "outputs": [],
   "source": [
    "import pandas as pd"
   ]
  },
  {
   "cell_type": "code",
   "execution_count": 67,
   "id": "5b0dc9f5-7e86-446c-8761-70dd3c5d06d4",
   "metadata": {},
   "outputs": [
    {
     "data": {
      "text/plain": [
       "array([[10,  5, 16],\n",
       "       [ 1, 18, 17],\n",
       "       [18,  9, 10],\n",
       "       [ 1, 11,  9],\n",
       "       [ 5, 17,  5]])"
      ]
     },
     "execution_count": 67,
     "metadata": {},
     "output_type": "execute_result"
    }
   ],
   "source": [
    "np.random.seed(seed=10) #seed=10\n",
    "sales_amounts = np.random.randint(1,20, size=(5,3))\n",
    "sales_amounts"
   ]
  },
  {
   "cell_type": "code",
   "execution_count": 68,
   "id": "6952f674-9882-4522-8a2b-0fe35d899df3",
   "metadata": {},
   "outputs": [
    {
     "data": {
      "text/html": [
       "<div>\n",
       "<style scoped>\n",
       "    .dataframe tbody tr th:only-of-type {\n",
       "        vertical-align: middle;\n",
       "    }\n",
       "\n",
       "    .dataframe tbody tr th {\n",
       "        vertical-align: top;\n",
       "    }\n",
       "\n",
       "    .dataframe thead th {\n",
       "        text-align: right;\n",
       "    }\n",
       "</style>\n",
       "<table border=\"1\" class=\"dataframe\">\n",
       "  <thead>\n",
       "    <tr style=\"text-align: right;\">\n",
       "      <th></th>\n",
       "      <th>Almond butter</th>\n",
       "      <th>Peanut butter</th>\n",
       "      <th>Cahsew butter</th>\n",
       "    </tr>\n",
       "  </thead>\n",
       "  <tbody>\n",
       "    <tr>\n",
       "      <th>Mo</th>\n",
       "      <td>10</td>\n",
       "      <td>5</td>\n",
       "      <td>16</td>\n",
       "    </tr>\n",
       "    <tr>\n",
       "      <th>Tu</th>\n",
       "      <td>1</td>\n",
       "      <td>18</td>\n",
       "      <td>17</td>\n",
       "    </tr>\n",
       "    <tr>\n",
       "      <th>We</th>\n",
       "      <td>18</td>\n",
       "      <td>9</td>\n",
       "      <td>10</td>\n",
       "    </tr>\n",
       "    <tr>\n",
       "      <th>Th</th>\n",
       "      <td>1</td>\n",
       "      <td>11</td>\n",
       "      <td>9</td>\n",
       "    </tr>\n",
       "    <tr>\n",
       "      <th>Fr</th>\n",
       "      <td>5</td>\n",
       "      <td>17</td>\n",
       "      <td>5</td>\n",
       "    </tr>\n",
       "  </tbody>\n",
       "</table>\n",
       "</div>"
      ],
      "text/plain": [
       "    Almond butter  Peanut butter  Cahsew butter\n",
       "Mo             10              5             16\n",
       "Tu              1             18             17\n",
       "We             18              9             10\n",
       "Th              1             11              9\n",
       "Fr              5             17              5"
      ]
     },
     "execution_count": 68,
     "metadata": {},
     "output_type": "execute_result"
    }
   ],
   "source": [
    "# weekly sales df\n",
    "weekly_sales = pd.DataFrame(sales_amounts,\n",
    "                            index=['Mo', 'Tu', 'We', 'Th', 'Fr'],\n",
    "                           columns=['Almond butter', 'Peanut butter', 'Cahsew butter'])\n",
    "weekly_sales"
   ]
  },
  {
   "cell_type": "code",
   "execution_count": 69,
   "id": "c2e783d5-f9f9-42d9-8301-14c9692ad3bf",
   "metadata": {},
   "outputs": [
    {
     "data": {
      "text/plain": [
       "array([10,  8, 12])"
      ]
     },
     "execution_count": 69,
     "metadata": {},
     "output_type": "execute_result"
    }
   ],
   "source": [
    "# prices array\n",
    "prices = np.array([10,8,12])\n",
    "prices"
   ]
  },
  {
   "cell_type": "code",
   "execution_count": 70,
   "id": "f79b3816-d885-45bf-a4c1-253dabc1f990",
   "metadata": {},
   "outputs": [
    {
     "data": {
      "text/html": [
       "<div>\n",
       "<style scoped>\n",
       "    .dataframe tbody tr th:only-of-type {\n",
       "        vertical-align: middle;\n",
       "    }\n",
       "\n",
       "    .dataframe tbody tr th {\n",
       "        vertical-align: top;\n",
       "    }\n",
       "\n",
       "    .dataframe thead th {\n",
       "        text-align: right;\n",
       "    }\n",
       "</style>\n",
       "<table border=\"1\" class=\"dataframe\">\n",
       "  <thead>\n",
       "    <tr style=\"text-align: right;\">\n",
       "      <th></th>\n",
       "      <th>Almond Butter</th>\n",
       "      <th>Peanut Butter</th>\n",
       "      <th>Cashew Butter</th>\n",
       "    </tr>\n",
       "  </thead>\n",
       "  <tbody>\n",
       "    <tr>\n",
       "      <th>Price</th>\n",
       "      <td>10</td>\n",
       "      <td>8</td>\n",
       "      <td>12</td>\n",
       "    </tr>\n",
       "  </tbody>\n",
       "</table>\n",
       "</div>"
      ],
      "text/plain": [
       "       Almond Butter  Peanut Butter  Cashew Butter\n",
       "Price             10              8             12"
      ]
     },
     "execution_count": 70,
     "metadata": {},
     "output_type": "execute_result"
    }
   ],
   "source": [
    "# create butter_prices df\n",
    "butter_prices = pd.DataFrame(prices.reshape([1,3]), \n",
    "                             index=['Price'], \n",
    "                             columns=['Almond Butter', 'Peanut Butter', 'Cashew Butter'])\n",
    "butter_prices"
   ]
  },
  {
   "cell_type": "code",
   "execution_count": 71,
   "id": "fbd9ab08-98c1-4a47-87a2-fe04b2e4cfaf",
   "metadata": {},
   "outputs": [
    {
     "data": {
      "text/plain": [
       "Mo    332\n",
       "Tu    358\n",
       "We    372\n",
       "Th    206\n",
       "Fr    246\n",
       "dtype: int32"
      ]
     },
     "execution_count": 71,
     "metadata": {},
     "output_type": "execute_result"
    }
   ],
   "source": [
    "# Total sales\n",
    "total_sales = weekly_sales.dot(prices)\n",
    "total_sales"
   ]
  },
  {
   "cell_type": "code",
   "execution_count": 72,
   "id": "d08524c1-023d-4baf-815d-1e8e5d6a18cc",
   "metadata": {},
   "outputs": [
    {
     "data": {
      "text/plain": [
       "array([332, 358, 372, 206, 246])"
      ]
     },
     "execution_count": 72,
     "metadata": {},
     "output_type": "execute_result"
    }
   ],
   "source": [
    "total_sales_2 = prices.dot(weekly_sales.T)\n",
    "total_sales_2"
   ]
  },
  {
   "cell_type": "code",
   "execution_count": 73,
   "id": "0a38ad34-b1e3-4ccb-bd72-b3d67ed5960a",
   "metadata": {},
   "outputs": [
    {
     "data": {
      "text/html": [
       "<div>\n",
       "<style scoped>\n",
       "    .dataframe tbody tr th:only-of-type {\n",
       "        vertical-align: middle;\n",
       "    }\n",
       "\n",
       "    .dataframe tbody tr th {\n",
       "        vertical-align: top;\n",
       "    }\n",
       "\n",
       "    .dataframe thead th {\n",
       "        text-align: right;\n",
       "    }\n",
       "</style>\n",
       "<table border=\"1\" class=\"dataframe\">\n",
       "  <thead>\n",
       "    <tr style=\"text-align: right;\">\n",
       "      <th></th>\n",
       "      <th>Almond Butter</th>\n",
       "      <th>Peanut Butter</th>\n",
       "      <th>Cashew Butter</th>\n",
       "    </tr>\n",
       "  </thead>\n",
       "  <tbody>\n",
       "    <tr>\n",
       "      <th>Price</th>\n",
       "      <td>10</td>\n",
       "      <td>8</td>\n",
       "      <td>12</td>\n",
       "    </tr>\n",
       "  </tbody>\n",
       "</table>\n",
       "</div>"
      ],
      "text/plain": [
       "       Almond Butter  Peanut Butter  Cashew Butter\n",
       "Price             10              8             12"
      ]
     },
     "execution_count": 73,
     "metadata": {},
     "output_type": "execute_result"
    }
   ],
   "source": [
    "# add this data as the new column\n",
    "butter_prices"
   ]
  },
  {
   "cell_type": "code",
   "execution_count": 74,
   "id": "e3219f0d-e97c-458f-80cf-85500a8d870a",
   "metadata": {},
   "outputs": [
    {
     "data": {
      "text/html": [
       "<div>\n",
       "<style scoped>\n",
       "    .dataframe tbody tr th:only-of-type {\n",
       "        vertical-align: middle;\n",
       "    }\n",
       "\n",
       "    .dataframe tbody tr th {\n",
       "        vertical-align: top;\n",
       "    }\n",
       "\n",
       "    .dataframe thead th {\n",
       "        text-align: right;\n",
       "    }\n",
       "</style>\n",
       "<table border=\"1\" class=\"dataframe\">\n",
       "  <thead>\n",
       "    <tr style=\"text-align: right;\">\n",
       "      <th></th>\n",
       "      <th>Almond butter</th>\n",
       "      <th>Peanut butter</th>\n",
       "      <th>Cahsew butter</th>\n",
       "    </tr>\n",
       "  </thead>\n",
       "  <tbody>\n",
       "    <tr>\n",
       "      <th>Mo</th>\n",
       "      <td>10</td>\n",
       "      <td>5</td>\n",
       "      <td>16</td>\n",
       "    </tr>\n",
       "    <tr>\n",
       "      <th>Tu</th>\n",
       "      <td>1</td>\n",
       "      <td>18</td>\n",
       "      <td>17</td>\n",
       "    </tr>\n",
       "    <tr>\n",
       "      <th>We</th>\n",
       "      <td>18</td>\n",
       "      <td>9</td>\n",
       "      <td>10</td>\n",
       "    </tr>\n",
       "    <tr>\n",
       "      <th>Th</th>\n",
       "      <td>1</td>\n",
       "      <td>11</td>\n",
       "      <td>9</td>\n",
       "    </tr>\n",
       "    <tr>\n",
       "      <th>Fr</th>\n",
       "      <td>5</td>\n",
       "      <td>17</td>\n",
       "      <td>5</td>\n",
       "    </tr>\n",
       "  </tbody>\n",
       "</table>\n",
       "</div>"
      ],
      "text/plain": [
       "    Almond butter  Peanut butter  Cahsew butter\n",
       "Mo             10              5             16\n",
       "Tu              1             18             17\n",
       "We             18              9             10\n",
       "Th              1             11              9\n",
       "Fr              5             17              5"
      ]
     },
     "execution_count": 74,
     "metadata": {},
     "output_type": "execute_result"
    }
   ],
   "source": [
    "weekly_sales"
   ]
  },
  {
   "cell_type": "code",
   "execution_count": 75,
   "id": "cd2e8863-0127-41f3-b975-303d116a9fa9",
   "metadata": {},
   "outputs": [
    {
     "data": {
      "text/html": [
       "<div>\n",
       "<style scoped>\n",
       "    .dataframe tbody tr th:only-of-type {\n",
       "        vertical-align: middle;\n",
       "    }\n",
       "\n",
       "    .dataframe tbody tr th {\n",
       "        vertical-align: top;\n",
       "    }\n",
       "\n",
       "    .dataframe thead th {\n",
       "        text-align: right;\n",
       "    }\n",
       "</style>\n",
       "<table border=\"1\" class=\"dataframe\">\n",
       "  <thead>\n",
       "    <tr style=\"text-align: right;\">\n",
       "      <th></th>\n",
       "      <th>Almond butter</th>\n",
       "      <th>Peanut butter</th>\n",
       "      <th>Cahsew butter</th>\n",
       "      <th>Total ($)</th>\n",
       "    </tr>\n",
       "  </thead>\n",
       "  <tbody>\n",
       "    <tr>\n",
       "      <th>Mo</th>\n",
       "      <td>10</td>\n",
       "      <td>5</td>\n",
       "      <td>16</td>\n",
       "      <td>332</td>\n",
       "    </tr>\n",
       "    <tr>\n",
       "      <th>Tu</th>\n",
       "      <td>1</td>\n",
       "      <td>18</td>\n",
       "      <td>17</td>\n",
       "      <td>358</td>\n",
       "    </tr>\n",
       "    <tr>\n",
       "      <th>We</th>\n",
       "      <td>18</td>\n",
       "      <td>9</td>\n",
       "      <td>10</td>\n",
       "      <td>372</td>\n",
       "    </tr>\n",
       "    <tr>\n",
       "      <th>Th</th>\n",
       "      <td>1</td>\n",
       "      <td>11</td>\n",
       "      <td>9</td>\n",
       "      <td>206</td>\n",
       "    </tr>\n",
       "    <tr>\n",
       "      <th>Fr</th>\n",
       "      <td>5</td>\n",
       "      <td>17</td>\n",
       "      <td>5</td>\n",
       "      <td>246</td>\n",
       "    </tr>\n",
       "  </tbody>\n",
       "</table>\n",
       "</div>"
      ],
      "text/plain": [
       "    Almond butter  Peanut butter  Cahsew butter  Total ($)\n",
       "Mo             10              5             16        332\n",
       "Tu              1             18             17        358\n",
       "We             18              9             10        372\n",
       "Th              1             11              9        206\n",
       "Fr              5             17              5        246"
      ]
     },
     "execution_count": 75,
     "metadata": {},
     "output_type": "execute_result"
    }
   ],
   "source": [
    "weekly_sales['Total ($)'] = total_sales\n",
    "weekly_sales"
   ]
  },
  {
   "cell_type": "markdown",
   "id": "4e08abfe-b368-4360-a95e-c4e7b4c559cf",
   "metadata": {},
   "source": [
    "## Comparision Operators"
   ]
  },
  {
   "cell_type": "code",
   "execution_count": 76,
   "id": "232040f5-9831-4ea0-876f-11052b14991a",
   "metadata": {},
   "outputs": [
    {
     "data": {
      "text/plain": [
       "array([0, 1, 2, 3, 4])"
      ]
     },
     "execution_count": 76,
     "metadata": {},
     "output_type": "execute_result"
    }
   ],
   "source": [
    "a1"
   ]
  },
  {
   "cell_type": "code",
   "execution_count": 77,
   "id": "1e2debd6-855c-4c42-aba9-89f4c30789e6",
   "metadata": {},
   "outputs": [
    {
     "data": {
      "text/plain": [
       "array([[0, 1, 2, 3, 4],\n",
       "       [5, 6, 7, 8, 9]])"
      ]
     },
     "execution_count": 77,
     "metadata": {},
     "output_type": "execute_result"
    }
   ],
   "source": [
    "a2"
   ]
  },
  {
   "cell_type": "code",
   "execution_count": 78,
   "id": "9135b726-2362-4b67-b689-72f837a4db06",
   "metadata": {},
   "outputs": [
    {
     "data": {
      "text/plain": [
       "array([[ True,  True,  True,  True,  True],\n",
       "       [ True,  True,  True,  True,  True]])"
      ]
     },
     "execution_count": 78,
     "metadata": {},
     "output_type": "execute_result"
    }
   ],
   "source": [
    "a2 >= a1 #alright, things are being broadcasted"
   ]
  },
  {
   "cell_type": "markdown",
   "id": "45f51bcd-ac49-451c-82ea-7a10684d3c93",
   "metadata": {},
   "source": [
    "## Sorting arrays"
   ]
  },
  {
   "cell_type": "code",
   "execution_count": 79,
   "id": "1ed6ba61-7c95-404b-a407-ce9bee75318e",
   "metadata": {},
   "outputs": [
    {
     "data": {
      "text/plain": [
       "array([[9, 4, 9, 2, 6, 9, 4, 7, 6, 6],\n",
       "       [5, 1, 7, 6, 9, 4, 1, 6, 8, 1],\n",
       "       [8, 9, 2, 8, 8, 3, 7, 1, 5, 6],\n",
       "       [7, 3, 4, 3, 6, 9, 4, 6, 6, 6],\n",
       "       [3, 7, 4, 3, 2, 2, 6, 1, 8, 8],\n",
       "       [9, 8, 3, 5, 9, 4, 7, 5, 4, 3],\n",
       "       [8, 9, 4, 8, 8, 4, 3, 4, 6, 2],\n",
       "       [5, 6, 6, 6, 5, 7, 7, 9, 2, 3]])"
      ]
     },
     "execution_count": 79,
     "metadata": {},
     "output_type": "execute_result"
    }
   ],
   "source": [
    "random_array_3 #gg"
   ]
  },
  {
   "cell_type": "code",
   "execution_count": 80,
   "id": "35f3ff36-89e1-47f9-982d-4537073ceea6",
   "metadata": {},
   "outputs": [
    {
     "data": {
      "text/plain": [
       "array([[2, 4, 4, 6, 6, 6, 7, 9, 9, 9],\n",
       "       [1, 1, 1, 4, 5, 6, 6, 7, 8, 9],\n",
       "       [1, 2, 3, 5, 6, 7, 8, 8, 8, 9],\n",
       "       [3, 3, 4, 4, 6, 6, 6, 6, 7, 9],\n",
       "       [1, 2, 2, 3, 3, 4, 6, 7, 8, 8],\n",
       "       [3, 3, 4, 4, 5, 5, 7, 8, 9, 9],\n",
       "       [2, 3, 4, 4, 4, 6, 8, 8, 8, 9],\n",
       "       [2, 3, 5, 5, 6, 6, 6, 7, 7, 9]])"
      ]
     },
     "execution_count": 80,
     "metadata": {},
     "output_type": "execute_result"
    }
   ],
   "source": [
    "np.sort(random_array_3)"
   ]
  },
  {
   "cell_type": "code",
   "execution_count": 81,
   "id": "4bac6e48-ca5f-4dc6-99b7-10b909a42b48",
   "metadata": {},
   "outputs": [
    {
     "data": {
      "text/plain": [
       "array([[3, 1, 2, 2, 2, 2, 1, 1, 2, 1],\n",
       "       [5, 3, 3, 3, 5, 3, 3, 1, 4, 2],\n",
       "       [5, 4, 4, 3, 6, 4, 4, 4, 5, 3],\n",
       "       [7, 6, 4, 5, 6, 4, 4, 5, 6, 3],\n",
       "       [8, 7, 4, 6, 8, 4, 6, 6, 6, 6],\n",
       "       [8, 8, 6, 6, 8, 7, 7, 6, 6, 6],\n",
       "       [9, 9, 7, 8, 9, 9, 7, 7, 8, 6],\n",
       "       [9, 9, 9, 8, 9, 9, 7, 9, 8, 8]])"
      ]
     },
     "execution_count": 81,
     "metadata": {},
     "output_type": "execute_result"
    }
   ],
   "source": [
    "np.sort(random_array_3, axis=0)"
   ]
  },
  {
   "cell_type": "code",
   "execution_count": 82,
   "id": "9bec6423-e624-408c-b6f3-d3626bb6df7a",
   "metadata": {},
   "outputs": [
    {
     "data": {
      "text/plain": [
       "array([[3, 1, 6, 4, 8, 9, 7, 0, 2, 5],\n",
       "       [1, 6, 9, 5, 0, 3, 7, 2, 8, 4],\n",
       "       [7, 2, 5, 8, 9, 6, 0, 3, 4, 1],\n",
       "       [1, 3, 2, 6, 4, 7, 8, 9, 0, 5],\n",
       "       [7, 4, 5, 0, 3, 2, 6, 1, 8, 9],\n",
       "       [2, 9, 5, 8, 3, 7, 6, 1, 0, 4],\n",
       "       [9, 6, 2, 5, 7, 8, 0, 3, 4, 1],\n",
       "       [8, 9, 0, 4, 1, 2, 3, 5, 6, 7]], dtype=int64)"
      ]
     },
     "execution_count": 82,
     "metadata": {},
     "output_type": "execute_result"
    }
   ],
   "source": [
    "np.argsort(random_array_3)"
   ]
  },
  {
   "cell_type": "code",
   "execution_count": 83,
   "id": "d80df132-5b25-4ce7-95fa-e96fda9baecc",
   "metadata": {},
   "outputs": [
    {
     "data": {
      "text/plain": [
       "array([0, 2, 0, 2, 1, 0, 2, 7, 1, 4], dtype=int64)"
      ]
     },
     "execution_count": 83,
     "metadata": {},
     "output_type": "execute_result"
    }
   ],
   "source": [
    "np.argmax(random_array_3, axis=0)"
   ]
  },
  {
   "cell_type": "markdown",
   "id": "ba14cd67-8df9-4026-ae76-83ac26b2aa67",
   "metadata": {},
   "source": [
    "## Practical example"
   ]
  },
  {
   "cell_type": "markdown",
   "id": "f6807f45-b0bb-499b-b256-fee4a8eb0b39",
   "metadata": {},
   "source": [
    "<img src = 'panda.png'>"
   ]
  },
  {
   "cell_type": "markdown",
   "id": "fc2ca07d-cbd1-4ff3-be6b-8bb874b4f5b1",
   "metadata": {},
   "source": [
    "### Turn this image into a numpy array"
   ]
  },
  {
   "cell_type": "code",
   "execution_count": 90,
   "id": "49869bdb-1f0f-40dd-9e67-670991997269",
   "metadata": {},
   "outputs": [],
   "source": [
    "from matplotlib.image import imread"
   ]
  },
  {
   "cell_type": "code",
   "execution_count": 92,
   "id": "9a7e6878-aa26-4997-b171-c58b4efd574f",
   "metadata": {},
   "outputs": [
    {
     "data": {
      "text/plain": [
       "numpy.ndarray"
      ]
     },
     "execution_count": 92,
     "metadata": {},
     "output_type": "execute_result"
    }
   ],
   "source": [
    "panda = imread('panda.png')\n",
    "type(panda)"
   ]
  },
  {
   "cell_type": "code",
   "execution_count": 95,
   "id": "3eceee0a-22d6-4853-a26a-6489495988a0",
   "metadata": {},
   "outputs": [
    {
     "data": {
      "text/plain": [
       "(24465000, (2330, 3500, 3), 3)"
      ]
     },
     "execution_count": 95,
     "metadata": {},
     "output_type": "execute_result"
    }
   ],
   "source": [
    "panda.size, panda.shape, panda.ndim"
   ]
  },
  {
   "cell_type": "markdown",
   "id": "44b43530-797b-4e64-a819-6de81d6bf461",
   "metadata": {},
   "source": [
    "<img src = 'dog-photo.png'>"
   ]
  },
  {
   "cell_type": "code",
   "execution_count": 96,
   "id": "4ea3f7c9-e42c-4f7c-8218-c4f9c50700ac",
   "metadata": {},
   "outputs": [],
   "source": [
    "dogger = imread('dog-photo.png')"
   ]
  },
  {
   "cell_type": "code",
   "execution_count": 98,
   "id": "f6c9e207-81d5-4ff7-8ad0-1804db4cf489",
   "metadata": {},
   "outputs": [
    {
     "data": {
      "text/plain": [
       "(993600, (432, 575, 4), 3)"
      ]
     },
     "execution_count": 98,
     "metadata": {},
     "output_type": "execute_result"
    }
   ],
   "source": [
    "dogger.size, dogger.shape, dogger.ndim"
   ]
  }
 ],
 "metadata": {
  "kernelspec": {
   "display_name": "Python 3 (ipykernel)",
   "language": "python",
   "name": "python3"
  },
  "language_info": {
   "codemirror_mode": {
    "name": "ipython",
    "version": 3
   },
   "file_extension": ".py",
   "mimetype": "text/x-python",
   "name": "python",
   "nbconvert_exporter": "python",
   "pygments_lexer": "ipython3",
   "version": "3.12.8"
  }
 },
 "nbformat": 4,
 "nbformat_minor": 5
}
