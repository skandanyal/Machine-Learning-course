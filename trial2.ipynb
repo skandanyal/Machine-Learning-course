{
 "cells": [
  {
   "cell_type": "markdown",
   "id": "4fdd40873bbc1593",
   "metadata": {},
   "source": [
    "## Learning new tech\n",
    "  I'm trying to learn how to use Github, Git and Binder."
   ]
  },
  {
   "cell_type": "code",
   "execution_count": 1,
   "id": "a405926d955cd3b8",
   "metadata": {
    "ExecuteTime": {
     "end_time": "2024-08-08T08:51:50.514907Z",
     "start_time": "2024-08-08T08:51:50.509187Z"
    }
   },
   "outputs": [],
   "source": [
    "def addition(a,b):\n",
    "    return a+b"
   ]
  },
  {
   "cell_type": "code",
   "execution_count": null,
   "id": "adbe993f-1649-496a-918b-a1aa4f583737",
   "metadata": {},
   "outputs": [],
   "source": [
    "def subtraction(a,b):\n",
    "    return a-b"
   ]
  },
  {
   "cell_type": "code",
   "execution_count": null,
   "id": "77e3294b-d367-47eb-9e11-fb387509b6cd",
   "metadata": {},
   "outputs": [],
   "source": [
    "print(f\"If you add 1 to 2, you get {addition(1,2)}.\")\n",
    "print(f\"If you subtract 2 from 1, you get {subtraction(2,1)}\")"
   ]
  }
 ],
 "metadata": {
  "kernelspec": {
   "display_name": "Python 3 (ipykernel)",
   "language": "python",
   "name": "python3"
  },
  "language_info": {
   "codemirror_mode": {
    "name": "ipython",
    "version": 3
   },
   "file_extension": ".py",
   "mimetype": "text/x-python",
   "name": "python",
   "nbconvert_exporter": "python",
   "pygments_lexer": "ipython3",
   "version": "3.12.8"
  }
 },
 "nbformat": 4,
 "nbformat_minor": 5
}
